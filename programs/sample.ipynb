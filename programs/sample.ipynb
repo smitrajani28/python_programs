{
 "cells": [
  {
   "cell_type": "code",
   "execution_count": null,
   "metadata": {},
   "outputs": [],
   "source": [
    "0 1 1 2 3 5 7"
   ]
  },
  {
   "cell_type": "code",
   "execution_count": 3,
   "metadata": {},
   "outputs": [
    {
     "name": "stdout",
     "output_type": "stream",
     "text": [
      "0 1 1 2 3 "
     ]
    }
   ],
   "source": [
    "def fibonnaci(n):\n",
    "    a=0\n",
    "    b=1\n",
    "    i=0\n",
    "    while(i<n):\n",
    "        temp =0\n",
    "        if(i<=1):\n",
    "            print(i, end=\" \")\n",
    "        else:\n",
    "            temp = a+b\n",
    "            print(temp, end=\" \" )\n",
    "            a = b\n",
    "            b = temp\n",
    "        i+=1\n",
    "n = int(input(\"Enter limit:\"))\n",
    "fibonnaci(n)"
   ]
  },
  {
   "cell_type": "code",
   "execution_count": 4,
   "metadata": {},
   "outputs": [
    {
     "name": "stdout",
     "output_type": "stream",
     "text": [
      "0 1 1 2 3 "
     ]
    }
   ],
   "source": [
    "n = int(input(\"Enter limit:\"))\n",
    "a=0\n",
    "b=1\n",
    "i=0\n",
    "while(i<n):\n",
    "        temp =0\n",
    "        if(i<=1):\n",
    "            print(i, end=\" \")\n",
    "        else:\n",
    "            temp = a+b\n",
    "            print(temp, end=\" \" )\n",
    "            a = b\n",
    "            b = temp\n",
    "        i+=1"
   ]
  }
 ],
 "metadata": {
  "kernelspec": {
   "display_name": "Python 3",
   "language": "python",
   "name": "python3"
  },
  "language_info": {
   "codemirror_mode": {
    "name": "ipython",
    "version": 3
   },
   "file_extension": ".py",
   "mimetype": "text/x-python",
   "name": "python",
   "nbconvert_exporter": "python",
   "pygments_lexer": "ipython3",
   "version": "3.11.4"
  },
  "orig_nbformat": 4
 },
 "nbformat": 4,
 "nbformat_minor": 2
}
